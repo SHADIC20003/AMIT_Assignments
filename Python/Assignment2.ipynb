{
 "cells": [
  {
   "cell_type": "markdown",
   "id": "3c7a8819",
   "metadata": {},
   "source": [
    "# Author: Abdelrahman Mohamed ElSayed\n",
    "\n",
    "# Task1\n",
    "Write a Python program to add an item to a tuple."
   ]
  },
  {
   "cell_type": "code",
   "execution_count": null,
   "id": "7bf26def",
   "metadata": {},
   "outputs": [
    {
     "name": "stdout",
     "output_type": "stream",
     "text": [
      "('item1', 'item2', 'item3')\n"
     ]
    }
   ],
   "source": [
    "itemTupple = (\"item1\", \"item2\")\n",
    "itemlist = list(itemTupple)\n",
    "itemlist.append(\"item3\")\n",
    "itemTupple = tuple(itemlist)\n",
    "print(itemTupple)"
   ]
  },
  {
   "cell_type": "markdown",
   "id": "a2932652",
   "metadata": {},
   "source": [
    "# Task2\n",
    "Write a Python program to sum all the items in a list."
   ]
  },
  {
   "cell_type": "code",
   "execution_count": 6,
   "id": "17cc806d",
   "metadata": {},
   "outputs": [
    {
     "name": "stdout",
     "output_type": "stream",
     "text": [
      "30\n"
     ]
    }
   ],
   "source": [
    "list1 = [5, 10 , 15]\n",
    "listSum = sum(list1)\n",
    "print(listSum)"
   ]
  },
  {
   "cell_type": "markdown",
   "id": "9439fccd",
   "metadata": {},
   "source": [
    "# Task3\n",
    "Write a Python program to multiply all the items in a list."
   ]
  },
  {
   "cell_type": "code",
   "execution_count": 11,
   "id": "7bd57bb5",
   "metadata": {},
   "outputs": [
    {
     "name": "stdout",
     "output_type": "stream",
     "text": [
      "27\n"
     ]
    }
   ],
   "source": [
    "list1 = [3, 3, 3]\n",
    "x = 1;\n",
    "for i in list1:\n",
    "    x *= i;\n",
    "\n",
    "print(x)"
   ]
  },
  {
   "cell_type": "markdown",
   "id": "1fef85c3",
   "metadata": {},
   "source": [
    "# Task4\n",
    "Write a Python program to get the smallest number from a list."
   ]
  },
  {
   "cell_type": "code",
   "execution_count": 13,
   "id": "c77b606c",
   "metadata": {},
   "outputs": [
    {
     "name": "stdout",
     "output_type": "stream",
     "text": [
      "3\n"
     ]
    }
   ],
   "source": [
    "list1 = [3, 9, 16]\n",
    "minVal = min(list1)\n",
    "print(minVal)"
   ]
  },
  {
   "cell_type": "markdown",
   "id": "0d287243",
   "metadata": {},
   "source": [
    "# Task5\n",
    "Write a Python program to get the largest number from a list."
   ]
  },
  {
   "cell_type": "code",
   "execution_count": 14,
   "id": "29bf3a84",
   "metadata": {},
   "outputs": [
    {
     "name": "stdout",
     "output_type": "stream",
     "text": [
      "16\n"
     ]
    }
   ],
   "source": [
    "list1 = [3, 9, 16]\n",
    "maxVal = max(list1)\n",
    "print(maxVal)"
   ]
  },
  {
   "cell_type": "markdown",
   "id": "b2350932",
   "metadata": {},
   "source": [
    "# Task6 \n",
    "Write a Python program to count the number of strings from a given list of \n",
    "strings."
   ]
  },
  {
   "cell_type": "code",
   "execution_count": 16,
   "id": "e73356bd",
   "metadata": {},
   "outputs": [
    {
     "name": "stdout",
     "output_type": "stream",
     "text": [
      "4\n"
     ]
    }
   ],
   "source": [
    "list1 = [\"x\", \"y\", \"z\", \"a\"]\n",
    "x = 0;\n",
    "for i in list1:\n",
    "    x += 1\n",
    "\n",
    "print(x) "
   ]
  },
  {
   "cell_type": "markdown",
   "id": "1eacc78b",
   "metadata": {},
   "source": [
    "# Task7\n",
    "Write a Python program to clone or copy a list"
   ]
  },
  {
   "cell_type": "code",
   "execution_count": 17,
   "id": "63bbc455",
   "metadata": {},
   "outputs": [
    {
     "name": "stdout",
     "output_type": "stream",
     "text": [
      "[1, 2, 3]\n"
     ]
    }
   ],
   "source": [
    "list1 = [1, 2 , 3]\n",
    "list2 = list1.copy()\n",
    "print(list2)"
   ]
  },
  {
   "cell_type": "markdown",
   "id": "449d71c4",
   "metadata": {},
   "source": [
    "# Task8\n",
    "Write a Python program to remove item(s) from a given set.\n",
    "\n",
    "s = set([0, 1, 3, 4, 5])"
   ]
  },
  {
   "cell_type": "code",
   "execution_count": 18,
   "id": "2593788e",
   "metadata": {},
   "outputs": [
    {
     "name": "stdout",
     "output_type": "stream",
     "text": [
      "{1, 4, 5}\n"
     ]
    }
   ],
   "source": [
    "set1 = set([0, 1, 3, 4, 5])\n",
    "set1.remove(0)\n",
    "set1.remove(3)\n",
    "print(set1)"
   ]
  },
  {
   "cell_type": "markdown",
   "id": "f90c349e",
   "metadata": {},
   "source": [
    "# Task9\n",
    "Write a Python program to find the maximum and minimum values in a set."
   ]
  },
  {
   "cell_type": "code",
   "execution_count": 19,
   "id": "6f6e62b0",
   "metadata": {},
   "outputs": [
    {
     "name": "stdout",
     "output_type": "stream",
     "text": [
      "5\n",
      " \n",
      "0\n"
     ]
    }
   ],
   "source": [
    "set1 = set([0, 1, 3, 4, 5])\n",
    "\n",
    "maxVal = max(set1)\n",
    "minVal = min(set1)\n",
    "\n",
    "print(maxVal)\n",
    "print(\" \")\n",
    "print(minVal)"
   ]
  },
  {
   "cell_type": "markdown",
   "id": "a151e82a",
   "metadata": {},
   "source": [
    "# Task10\n",
    "Write a Python program to convert a tuple to a dictionary."
   ]
  },
  {
   "cell_type": "code",
   "execution_count": 6,
   "id": "1c606999",
   "metadata": {},
   "outputs": [
    {
     "name": "stdout",
     "output_type": "stream",
     "text": [
      "{'name': None, 'age': None, 'city': None}\n"
     ]
    }
   ],
   "source": [
    "dict1 = {}\n",
    "tuple1 = (\"name\", \"age\", \"city\")\n",
    "\n",
    "for i, key in enumerate(tuple1):\n",
    "    dict1[key] = None\n",
    "\n",
    "print(dict1)"
   ]
  },
  {
   "cell_type": "markdown",
   "id": "c8132b1b",
   "metadata": {},
   "source": [
    "# Task11\n",
    "Write a Python program to reverse a tuple."
   ]
  },
  {
   "cell_type": "code",
   "execution_count": 1,
   "id": "49a882d8",
   "metadata": {},
   "outputs": [
    {
     "name": "stdout",
     "output_type": "stream",
     "text": [
      "('g', 'f', 'e', 'd', 'c', 'b', 'a')\n"
     ]
    }
   ],
   "source": [
    "Tup1 = ('a' , 'b' , 'c', 'd', 'e', 'f', 'g')\n",
    "Tup2 = Tup1[::-1]\n",
    "print(Tup2) "
   ]
  },
  {
   "cell_type": "markdown",
   "id": "6c062c85",
   "metadata": {},
   "source": [
    "# Task12\n",
    "Write a Python program to convert a list of tuples into a dictionary"
   ]
  },
  {
   "cell_type": "code",
   "execution_count": 2,
   "id": "c3b21d48",
   "metadata": {},
   "outputs": [
    {
     "name": "stdout",
     "output_type": "stream",
     "text": [
      "{'item1': 1, 'item2': 2, 'item3': 3, 'item4': 4}\n"
     ]
    }
   ],
   "source": [
    "list1 = [(\"item1\", 1), (\"item2\", 2), (\"item3\", 3), (\"item4\", 4)]\n",
    "dict1 = {}\n",
    "\n",
    "dict1 = dict(list1)\n",
    "print(dict1)"
   ]
  },
  {
   "cell_type": "markdown",
   "id": "2133456d",
   "metadata": {},
   "source": [
    "# Task13\n",
    "Write a Python program to replace the last value of tuples in a list.\n",
    "\n",
    "Sample list: [(10, 20, 40), (40, 50, 60), (70, 80, 90)]\n",
    "\n",
    "Expected Output: [(10, 20, 100), (40, 50, 100), (70, 80, 100)]\n"
   ]
  },
  {
   "cell_type": "code",
   "execution_count": 5,
   "id": "de535d71",
   "metadata": {},
   "outputs": [
    {
     "name": "stdout",
     "output_type": "stream",
     "text": [
      "[(10, 20, 100), (40, 50, 100), (70, 80, 100)]\n"
     ]
    }
   ],
   "source": [
    "list1 = [(10, 20, 40), (40, 50, 60), (70, 80, 90)]\n",
    "\n",
    "for i in range(len(list1)):\n",
    "    list1[i] = list1[i][:-1] + (100,)\n",
    "\n",
    "print(list1)"
   ]
  },
  {
   "cell_type": "markdown",
   "id": "076336bc",
   "metadata": {},
   "source": [
    "# Task14\n",
    "Remove the illegal characters in the variable name:\n",
    "\n",
    "var_name = \"%%6my name is ami^t\"\n",
    "\n",
    "illegal_chars = \"0123456789!@#$%^&*()-+=[]{}|\\\\;:'\\\",.<>/?~\"\n",
    "\n",
    "output is \"my name is amit\""
   ]
  },
  {
   "cell_type": "code",
   "execution_count": 3,
   "id": "c377b33b",
   "metadata": {},
   "outputs": [
    {
     "name": "stdout",
     "output_type": "stream",
     "text": [
      "my name is amit\n"
     ]
    }
   ],
   "source": [
    "var_name = \"%%6my name is ami^t\"\n",
    "\n",
    "illegal_chars = \"0123456789!@#$%^&*()-+=[]{}|\\\\;:'\\\",.<>/?~\"\n",
    "\n",
    "tran_table = str.maketrans('', '', illegal_chars)\n",
    "\n",
    "Output = var_name.translate(tran_table)\n",
    "\n",
    "print(Output)"
   ]
  },
  {
   "cell_type": "markdown",
   "id": "46bd77d7",
   "metadata": {},
   "source": [
    "# Task15\n",
    "Write a Python program to print the even and odd numbers in a series of numbers\n",
    "\n",
    "Sample numbers : numbers = (1, 2, 3, 4, 5, 6, 7, 8, 9) \n",
    "    \n",
    "Expected Output :\n",
    "    \n",
    "Number of even numbers : 2,4,6,8\n",
    "    \n",
    "Number of odd numbers : 1,3,5,7,9"
   ]
  },
  {
   "cell_type": "code",
   "execution_count": 4,
   "id": "924d0873",
   "metadata": {},
   "outputs": [
    {
     "name": "stdout",
     "output_type": "stream",
     "text": [
      "[2, 4, 6, 8]\n",
      "[1, 3, 5, 7]\n"
     ]
    }
   ],
   "source": [
    "numbers = (1, 2, 3 ,4 ,5 ,6 ,7 ,8 ,)\n",
    "even = []\n",
    "odd = []\n",
    "\n",
    "for i in numbers:\n",
    "    if i % 2 == 0:\n",
    "        even.append(i)\n",
    "    else:\n",
    "        odd.append(i)\n",
    "\n",
    "print(even)\n",
    "print(odd)"
   ]
  },
  {
   "cell_type": "markdown",
   "id": "0f8fce9c",
   "metadata": {},
   "source": [
    "# Task16\n",
    "Write a Python program that iterates the integers from 1 to 50. For multiples of three print \"Fizz\" instead of the number and for multiples of five print \"Buzz\". For numbers that are multiples of three and five, print \"FizzBuzz\"."
   ]
  },
  {
   "cell_type": "code",
   "execution_count": null,
   "id": "5985952d",
   "metadata": {},
   "outputs": [],
   "source": [
    "for number in range(1,50):\n",
    "    if number % 3 == 0 and number % 5 == 0:\n",
    "        print(\"fizzbuzz\")\n",
    "    if number % 3 == 0:\n",
    "        print(\"fizz\")\n",
    "    if number % 5 == 0:\n",
    "        print(\"buzz\")\n",
    "    else:\n",
    "        print(number)\n"
   ]
  },
  {
   "cell_type": "markdown",
   "id": "504dee61",
   "metadata": {},
   "source": [
    "# Task17\n",
    "After you have finished the second session, can you explain briefly what information was learned and also what information you learned through the search?"
   ]
  },
  {
   "cell_type": "code",
   "execution_count": null,
   "id": "4711a851",
   "metadata": {},
   "outputs": [],
   "source": []
  }
 ],
 "metadata": {
  "kernelspec": {
   "display_name": "Python 3 (ipykernel)",
   "language": "python",
   "name": "python3"
  },
  "language_info": {
   "codemirror_mode": {
    "name": "ipython",
    "version": 3
   },
   "file_extension": ".py",
   "mimetype": "text/x-python",
   "name": "python",
   "nbconvert_exporter": "python",
   "pygments_lexer": "ipython3",
   "version": "3.12.1"
  }
 },
 "nbformat": 4,
 "nbformat_minor": 5
}
