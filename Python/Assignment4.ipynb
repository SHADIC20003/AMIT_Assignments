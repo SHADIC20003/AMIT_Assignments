{
 "cells": [
  {
   "cell_type": "markdown",
   "id": "fa6c7ffa",
   "metadata": {},
   "source": [
    "# Task1\n",
    "Create a Class with instance attributes.\n",
    "\n",
    "Write a Python program to create a Vehicle class with max_speed and mileage instance attributes."
   ]
  },
  {
   "cell_type": "code",
   "execution_count": null,
   "id": "96a92f27",
   "metadata": {},
   "outputs": [],
   "source": [
    "class Vehicle:\n",
    "    max_speed = 0\n",
    "    mileage = 0\n",
    "\n",
    "    def __init__(self,max_speed,mileage):\n",
    "        self.max_speed = max_speed\n",
    "        self.mileage = mileage\n"
   ]
  },
  {
   "cell_type": "markdown",
   "id": "5250b0eb",
   "metadata": {},
   "source": [
    "# Task2\n",
    "Create a child class Bus that will inherit all the variables and methods of the Vehicle class."
   ]
  },
  {
   "cell_type": "code",
   "execution_count": null,
   "id": "77f30516",
   "metadata": {},
   "outputs": [],
   "source": [
    "class Bus(Vehicle):\n",
    "    pass"
   ]
  },
  {
   "cell_type": "markdown",
   "id": "48dd7ccf",
   "metadata": {},
   "source": [
    "# Task3\n",
    "Class Inheritance\n",
    "\n",
    "Create a Bus class that inherits from the Vehicle class. Give the capacity argument of Bus.seating_capacity() a default value of 50.\n"
   ]
  },
  {
   "cell_type": "code",
   "execution_count": null,
   "id": "59f50f04",
   "metadata": {},
   "outputs": [],
   "source": [
    "class Bus(Vehicle):\n",
    "    seating_capacity = 50"
   ]
  },
  {
   "cell_type": "markdown",
   "id": "ecbeb9b4",
   "metadata": {},
   "source": [
    "# Task4\n",
    "Define a property that must have the same value for every class instance (object)\n",
    "\n",
    "Define a class attribute”color” with a default value white. I.e., Every Vehicle should be white.\n"
   ]
  },
  {
   "cell_type": "code",
   "execution_count": null,
   "id": "e12721e9",
   "metadata": {},
   "outputs": [],
   "source": [
    "class Vehicle:\n",
    "    color = \"white\"\n",
    "    "
   ]
  },
  {
   "cell_type": "markdown",
   "id": "6167344d",
   "metadata": {},
   "source": [
    "# Task5\n",
    "Check type of an object\n",
    "\n",
    "Write a program to determine which class a given Bus object belongs to.\n"
   ]
  },
  {
   "cell_type": "code",
   "execution_count": 3,
   "id": "1914e789",
   "metadata": {},
   "outputs": [
    {
     "name": "stdout",
     "output_type": "stream",
     "text": [
      "bus1 is a school_bus\n",
      "bus2 is a travel_bus\n"
     ]
    }
   ],
   "source": [
    "class Vehicle:\n",
    "    pass\n",
    "\n",
    "class Bus:\n",
    "    pass\n",
    "\n",
    "class school_bus(Bus):\n",
    "    pass\n",
    "\n",
    "class travel_bus(Bus):\n",
    "    pass\n",
    "\n",
    "\n",
    "def get_class(obj):\n",
    "    return obj.__class__.__name__\n",
    "\n",
    "bus1 = school_bus()\n",
    "bus2 = travel_bus()\n",
    "\n",
    "print(\"bus1 is a\", get_class(bus1))\n",
    "print(\"bus2 is a\", get_class(bus2))\n"
   ]
  },
  {
   "cell_type": "markdown",
   "id": "9ce9b708",
   "metadata": {},
   "source": [
    "# Task6\n",
    "Determine if School_bus is also an instance of the Vehicle class."
   ]
  },
  {
   "cell_type": "code",
   "execution_count": 4,
   "id": "da5b7f1a",
   "metadata": {},
   "outputs": [
    {
     "name": "stdout",
     "output_type": "stream",
     "text": [
      "Is school_bus an instance of the vehicle class?  False\n"
     ]
    }
   ],
   "source": [
    "class Vehicle:\n",
    "    pass\n",
    "\n",
    "class Bus:\n",
    "    pass\n",
    "\n",
    "class school_bus(Bus):\n",
    "    pass\n",
    "\n",
    "check = isinstance(school_bus, Vehicle)\n",
    "\n",
    "print(\"Is school_bus an instance of the vehicle class? \", check)"
   ]
  }
 ],
 "metadata": {
  "kernelspec": {
   "display_name": "Python 3 (ipykernel)",
   "language": "python",
   "name": "python3"
  },
  "language_info": {
   "codemirror_mode": {
    "name": "ipython",
    "version": 3
   },
   "file_extension": ".py",
   "mimetype": "text/x-python",
   "name": "python",
   "nbconvert_exporter": "python",
   "pygments_lexer": "ipython3",
   "version": "3.12.1"
  }
 },
 "nbformat": 4,
 "nbformat_minor": 5
}
