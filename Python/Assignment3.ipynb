{
 "cells": [
  {
   "cell_type": "markdown",
   "id": "148bc96a",
   "metadata": {},
   "source": [
    "# Author: Abdelrahman Mohamed ElSayed\n",
    "\n",
    "# Task1\n",
    "Implement Fibonacci series using recursion."
   ]
  },
  {
   "cell_type": "code",
   "execution_count": null,
   "id": "1b68769b",
   "metadata": {},
   "outputs": [],
   "source": [
    "def Fibonacci(n):\n",
    "    if n<= 1:\n",
    "        return n\n",
    "    else: \n",
    "        return(Fibonacci(n-1) + Fibonacci(n - 2))\n",
    "    "
   ]
  },
  {
   "cell_type": "markdown",
   "id": "7f183270",
   "metadata": {},
   "source": [
    "# Task2\n",
    "Write a Python program to find all the unique words and count the frequency of \n",
    "occurrence from a given list of strings."
   ]
  },
  {
   "cell_type": "code",
   "execution_count": null,
   "id": "d0dd47f9",
   "metadata": {},
   "outputs": [],
   "source": [
    "def count(words):\n",
    "    word_set = set(words)\n",
    "    word_counts = {}\n",
    "    for word in word_set:\n",
    "        word_counts[word] = words.count(word)\n",
    "    return word_counts\n",
    "\n",
    "words = ['Red', 'Green', 'Red', 'Blue', 'Red', 'Red', 'Green']\n",
    "print(count(words))"
   ]
  },
  {
   "cell_type": "markdown",
   "id": "94b572a4",
   "metadata": {},
   "source": [
    "# Task3\n",
    "Write a Python program that finds all pairs of elements in a list whose sum is equal to a \n",
    "given value.\n"
   ]
  },
  {
   "cell_type": "code",
   "execution_count": 10,
   "id": "828ee86b",
   "metadata": {},
   "outputs": [
    {
     "name": "stdout",
     "output_type": "stream",
     "text": [
      "[(1, 7), (2, 6), (3, 5)]\n"
     ]
    }
   ],
   "source": [
    "lst = [1, 2, 3, 4, 5, 6, 7]\n",
    "target_sum = 8\n",
    "pairs = []\n",
    "for i in range(len(lst) - 1):\n",
    "    for j in range(i + 1, len(lst)):\n",
    "      if lst[i] + lst[j] == target_sum:\n",
    "        pairs.append((lst[i], lst[j]))\n",
    "\n",
    "print(pairs)"
   ]
  },
  {
   "cell_type": "markdown",
   "id": "a5a74b78",
   "metadata": {},
   "source": [
    "# Task4\n",
    "Write a Python program to find the two numbers whose product is maximum among all \n",
    "the pairs in a given list of numbers\n"
   ]
  },
  {
   "cell_type": "code",
   "execution_count": 1,
   "id": "5e422510",
   "metadata": {},
   "outputs": [
    {
     "name": "stdout",
     "output_type": "stream",
     "text": [
      "max value:  3780\n",
      "number 1 is:  84\n",
      "number 2 is:  45\n"
     ]
    }
   ],
   "source": [
    "list1 = [5, 4, 6, 84, 45, 21, 45, 32, 21, 45,21, 8, 11, 23]\n",
    "temp = maxVal = 1\n",
    "num2 = num1 = 0\n",
    "\n",
    "\n",
    "for i in range(len(list1)):\n",
    "    for j in range(i + 1,len(list1)):\n",
    "        temp = list1[i] * list1[j]\n",
    "        if temp > maxVal:\n",
    "            maxVal = temp\n",
    "            num1 = list1[i]\n",
    "            num2 = list1[j]\n",
    "        else:\n",
    "            continue\n",
    "\n",
    "print(\"max value: \", maxVal)\n",
    "print(\"number 1 is: \", num1)\n",
    "print(\"number 2 is: \", num2)"
   ]
  },
  {
   "cell_type": "markdown",
   "id": "26eb9e76",
   "metadata": {},
   "source": [
    "# Task5\n",
    "Write a Python function that takes a number as a parameter and checks whether the \n",
    "number is prime or not."
   ]
  },
  {
   "cell_type": "code",
   "execution_count": 2,
   "id": "73a8cc9e",
   "metadata": {},
   "outputs": [],
   "source": [
    "def isPrime(num):\n",
    "    if num > 1:\n",
    "        for i in range(2, int(num/2) + 1):\n",
    "            if(num % i) == 0:\n",
    "                return False\n",
    "        return True\n"
   ]
  },
  {
   "cell_type": "markdown",
   "id": "43e20f1b",
   "metadata": {},
   "source": [
    "# Task6\n",
    "Write a Python function to print the even numbers from a given list.\n",
    "\n",
    "lst = [1, 2, 3, 4, 5, 6, 7, 8, 9]"
   ]
  },
  {
   "cell_type": "code",
   "execution_count": 3,
   "id": "a4c12b6c",
   "metadata": {},
   "outputs": [
    {
     "name": "stdout",
     "output_type": "stream",
     "text": [
      "[2, 4, 6, 8]\n"
     ]
    }
   ],
   "source": [
    "def isEven(numbers):\n",
    "    EvenList = []\n",
    "    for i in numbers:\n",
    "        if i % 2 == 0:\n",
    "            EvenList.append(i)\n",
    "        else:\n",
    "            continue\n",
    "    return EvenList\n",
    "\n",
    "lst = [1, 2, 3, 4, 5, 6, 7, 8, 9]\n",
    "print(isEven(lst))"
   ]
  },
  {
   "cell_type": "markdown",
   "id": "f3f345dd",
   "metadata": {},
   "source": [
    "# Task7\n",
    "Write a function that will take a given string and reverse the order of words.\n",
    "Ex:\n",
    "“Hello world” →”world Hello”"
   ]
  },
  {
   "cell_type": "code",
   "execution_count": 5,
   "id": "f197a7fa",
   "metadata": {},
   "outputs": [
    {
     "name": "stdout",
     "output_type": "stream",
     "text": [
      "World Hello\n"
     ]
    }
   ],
   "source": [
    "def reversed(str):\n",
    "    words = str.split()\n",
    "    return \" \".join(words[::-1])\n",
    "\n",
    "str = \"Hello World\"\n",
    "\n",
    "print(reversed(str))"
   ]
  },
  {
   "cell_type": "markdown",
   "id": "823b3fe1",
   "metadata": {},
   "source": [
    "# Task8\n",
    "Given an integer x, return true if x is a palindrome, and false otherwise.\n",
    "   \n",
    "       Example 1:\n",
    "\n",
    "       Input: x = 121\n",
    "\n",
    "       Output: true\n",
    "\n",
    "       Explanation: 121 reads as 121 from left to right and from right to left.\n",
    "\n",
    "       Example 2:\n",
    "\n",
    "       Input: x = -121\n",
    "\n",
    "       Output: false\n",
    "    Explanation: From left to right, it reads -121. From right to left, it becomes 121-. Therefore, it is not a palindrome.\n",
    "\n",
    "        Example 3:\n",
    "\n",
    "        Input: x = 10\n",
    "\n",
    "        Output: false\n",
    "\n",
    "        Explanation: Reads 01 from right to left. Therefore, it is not a palindrome"
   ]
  },
  {
   "cell_type": "code",
   "execution_count": 13,
   "id": "8ac91aa2",
   "metadata": {},
   "outputs": [
    {
     "name": "stdout",
     "output_type": "stream",
     "text": [
      "True\n",
      "False\n",
      "False\n"
     ]
    }
   ],
   "source": [
    "num1 = 121\n",
    "num2 = -121\n",
    "num3 = 10\n",
    "\n",
    "def is_palindrome(num):\n",
    "    numstr = \"% s\" % num\n",
    "    reversed_num = numstr[::-1]\n",
    "    if numstr == reversed_num:\n",
    "        return True\n",
    "    else:\n",
    "        return False\n",
    "\n",
    "print(is_palindrome(num1))\n",
    "print(is_palindrome(num2))\n",
    "print(is_palindrome(num3))\n"
   ]
  },
  {
   "cell_type": "markdown",
   "id": "84044d94",
   "metadata": {},
   "source": [
    "# Task8\n",
    "Write a Python function that checks whether a passed string is a palindrome or not.\n"
   ]
  },
  {
   "cell_type": "code",
   "execution_count": 14,
   "id": "904ae587",
   "metadata": {},
   "outputs": [
    {
     "name": "stdout",
     "output_type": "stream",
     "text": [
      "True\n",
      "False\n"
     ]
    }
   ],
   "source": [
    "str1 = \"wow\"\n",
    "str2 = \"life\"\n",
    "\n",
    "def is_palindrome(str):\n",
    "    reversed_str = str[::-1]\n",
    "    if str == reversed_str:\n",
    "        return True\n",
    "    else:\n",
    "        return False\n",
    "    \n",
    "print(is_palindrome(str1))\n",
    "print(is_palindrome(str2))"
   ]
  },
  {
   "cell_type": "markdown",
   "id": "4444e26b",
   "metadata": {},
   "source": [
    "# Task9\n",
    "Write a Python function to create and print a list where the values are the squares of numbers \n",
    "between 1 and 30 (both included)."
   ]
  },
  {
   "cell_type": "code",
   "execution_count": 19,
   "id": "4616ef24",
   "metadata": {},
   "outputs": [
    {
     "name": "stdout",
     "output_type": "stream",
     "text": [
      "[1, 4, 9, 16, 25, 36, 49, 64, 81, 100, 121, 144, 169, 196, 225, 256, 289, 324, 361, 400, 441, 484, 529, 576, 625, 676, 729, 784, 841, 900]\n"
     ]
    }
   ],
   "source": [
    "def Squares():\n",
    "    list1 = []\n",
    "    for i in range(1,31):\n",
    "        list1.append(pow(i,2))\n",
    "    print(list1)    \n",
    "    return list1\n",
    "    \n",
    "lst = Squares()"
   ]
  },
  {
   "cell_type": "markdown",
   "id": "1358514d",
   "metadata": {},
   "source": [
    "# Task10\n",
    "Write a Python function to generate all permutations of a list."
   ]
  },
  {
   "cell_type": "code",
   "execution_count": 20,
   "id": "8fbf76b3",
   "metadata": {},
   "outputs": [
    {
     "name": "stdout",
     "output_type": "stream",
     "text": [
      "(1, 2, 3)\n",
      "(1, 3, 2)\n",
      "(2, 1, 3)\n",
      "(2, 3, 1)\n",
      "(3, 1, 2)\n",
      "(3, 2, 1)\n"
     ]
    }
   ],
   "source": [
    "from itertools import permutations\n",
    "\n",
    "lst = [1, 2, 3]\n",
    "\n",
    "lst2 = list(permutations(lst))\n",
    "\n",
    "for sublst in lst2:\n",
    "    print(sublst)"
   ]
  },
  {
   "cell_type": "markdown",
   "id": "e7555048",
   "metadata": {},
   "source": [
    "# Task11\n",
    "Write a Python program to access a function inside a function"
   ]
  },
  {
   "cell_type": "code",
   "execution_count": 6,
   "id": "df891ff9",
   "metadata": {},
   "outputs": [
    {
     "name": "stdout",
     "output_type": "stream",
     "text": [
      "the main function\n",
      "the sub function\n"
     ]
    }
   ],
   "source": [
    "def main_func():\n",
    "    print(\"the main function\")\n",
    "    def sub_func():\n",
    "        print(\"the sub function\")\n",
    "    sub_func()\n",
    "\n",
    "main_func()"
   ]
  },
  {
   "cell_type": "markdown",
   "id": "f6c1495a",
   "metadata": {},
   "source": [
    "# Task12\n",
    "After you have finished the third session, can you explain briefly what information was learned and also what information you learned through the search?"
   ]
  },
  {
   "cell_type": "code",
   "execution_count": null,
   "id": "4aa1f2b3",
   "metadata": {},
   "outputs": [],
   "source": []
  }
 ],
 "metadata": {
  "kernelspec": {
   "display_name": "Python 3 (ipykernel)",
   "language": "python",
   "name": "python3"
  },
  "language_info": {
   "codemirror_mode": {
    "name": "ipython",
    "version": 3
   },
   "file_extension": ".py",
   "mimetype": "text/x-python",
   "name": "python",
   "nbconvert_exporter": "python",
   "pygments_lexer": "ipython3",
   "version": "3.12.1"
  }
 },
 "nbformat": 4,
 "nbformat_minor": 5
}
