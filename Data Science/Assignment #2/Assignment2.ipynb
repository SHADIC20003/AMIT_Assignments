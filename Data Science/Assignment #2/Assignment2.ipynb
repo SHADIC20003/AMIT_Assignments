{
 "cells": [
  {
   "cell_type": "markdown",
   "id": "fa6c7ffa",
   "metadata": {},
   "source": [
    "# Task1\n",
    "\n",
    "Write a NumPy program to test whether none of the elements of a given array is zero."
   ]
  },
  {
   "cell_type": "code",
   "execution_count": null,
   "id": "96a92f27",
   "metadata": {},
   "outputs": [],
   "source": [
    "import numpy as np\n",
    "\n",
    "x = np.array([1,2,0,3])\n",
    "y = np.array([1,2,3,4])\n",
    "\n",
    "print(np.all(x))\n",
    "print(np.all(y))"
   ]
  },
  {
   "cell_type": "markdown",
   "id": "5250b0eb",
   "metadata": {},
   "source": [
    "# Task2\n",
    "\n",
    "Write a NumPy program to test whether any of the elements of a given array is non-zero."
   ]
  },
  {
   "cell_type": "code",
   "execution_count": null,
   "id": "77f30516",
   "metadata": {},
   "outputs": [],
   "source": [
    "import numpy as np\n",
    "\n",
    "x = np.array([0,00,0])\n",
    "y = np.array([0,2,0,0])\n",
    "\n",
    "print(np.any(x))\n",
    "print(np.any(y))"
   ]
  },
  {
   "cell_type": "markdown",
   "id": "48dd7ccf",
   "metadata": {},
   "source": [
    "# Task3\n",
    "\n",
    "Write a NumPy program to create an element-wise comparison (equal, equal within a tolerance) of two\n",
    "given."
   ]
  },
  {
   "cell_type": "code",
   "execution_count": null,
   "id": "59f50f04",
   "metadata": {},
   "outputs": [],
   "source": [
    "import numpy as np\n",
    "\n",
    "x = np.array([1,2,3,4.00000000001])\n",
    "y = np.array([1,2,3,4])\n",
    "\n",
    "print(\"is it equal?\") \n",
    "print(np.equal(x,y)) #here we compare the exact data\n",
    "\n",
    "print(\"is it equal\")\n",
    "print(np.allclose(x,y)) #here we allow a little bit of variance in numbers"
   ]
  },
  {
   "cell_type": "markdown",
   "id": "ecbeb9b4",
   "metadata": {},
   "source": [
    "# Task4\n",
    "\n",
    "Write a NumPy program to create an array of 10 zeros,10 ones, 10 fives."
   ]
  },
  {
   "cell_type": "code",
   "execution_count": null,
   "id": "e12721e9",
   "metadata": {},
   "outputs": [],
   "source": [
    "import numpy as np\n",
    "\n",
    "array_of_zeros = np.zeros(10)\n",
    "\n",
    "array_of_ones = np.ones(10)\n",
    "\n",
    "array_of_fives = np.ones(10) * 5\n",
    "\n",
    "print(array_of_zeros)\n",
    "print(array_of_ones)\n",
    "print(array_of_fives)\n",
    "\n",
    "combined_array = np.concatenate((array_of_zeros,array_of_ones,array_of_fives))\\\n",
    "\n",
    "print(combined_array)"
   ]
  },
  {
   "cell_type": "markdown",
   "id": "6167344d",
   "metadata": {},
   "source": [
    "# Task5\n",
    "\n",
    "Write a NumPy program to create an array of the integers from 30 to 70."
   ]
  },
  {
   "cell_type": "code",
   "execution_count": null,
   "id": "1914e789",
   "metadata": {},
   "outputs": [],
   "source": [
    "import numpy as np\n",
    "\n",
    "array = np.arange(30,71)\n",
    "\n",
    "print(array)"
   ]
  },
  {
   "cell_type": "markdown",
   "id": "9ce9b708",
   "metadata": {},
   "source": [
    "# Task6\n",
    "\n",
    "Write a NumPy program to create a 3x3 identity matrix."
   ]
  },
  {
   "cell_type": "code",
   "execution_count": null,
   "id": "da5b7f1a",
   "metadata": {},
   "outputs": [],
   "source": [
    "import numpy as np\n",
    "\n",
    "array = np.identity(3)\n",
    "\n",
    "print(array)"
   ]
  },
  {
   "cell_type": "markdown",
   "id": "3b3a0444",
   "metadata": {},
   "source": [
    "# Task 7\n",
    "\n",
    "Write a NumPy program to generate a random number between 0 and 1"
   ]
  },
  {
   "cell_type": "code",
   "execution_count": null,
   "id": "10632f6b",
   "metadata": {},
   "outputs": [],
   "source": [
    "import numpy as np\n",
    "\n",
    "Rand_num = np.random.normal(0,1,1)\n",
    "\n",
    "print(Rand_num)"
   ]
  },
  {
   "cell_type": "markdown",
   "id": "faa05df2",
   "metadata": {},
   "source": [
    "# Task 8\n",
    "\n",
    "Write a NumPy program to generate an array of 15 random numbers from a standard normal\n",
    "distribution"
   ]
  },
  {
   "cell_type": "code",
   "execution_count": null,
   "id": "f0fda4a8",
   "metadata": {},
   "outputs": [],
   "source": [
    "import numpy as np\n",
    "\n",
    "array = np.random.normal(0,1,15)\n",
    "\n",
    "print(array)"
   ]
  },
  {
   "cell_type": "markdown",
   "id": "2d7b2981",
   "metadata": {},
   "source": [
    "# Task 9\n",
    "\n",
    "Write a NumPy program to create a vector with values ranging from 15 to 55 and print all values\n",
    "except the first and last."
   ]
  },
  {
   "cell_type": "code",
   "execution_count": null,
   "id": "c6819279",
   "metadata": {},
   "outputs": [],
   "source": [
    "import numpy as np\n",
    "\n",
    "array = np.arange(15,56)\n",
    "\n",
    "print(array[1:-1])\n"
   ]
  },
  {
   "cell_type": "markdown",
   "id": "489fb94f",
   "metadata": {},
   "source": [
    "# Task 10\n",
    "\n",
    "Write a NumPy program to create a vector of length 5 filled with arbitrary integers from 0 to 10"
   ]
  },
  {
   "cell_type": "code",
   "execution_count": null,
   "id": "a6cf6ae2",
   "metadata": {},
   "outputs": [],
   "source": [
    "import numpy as np\n",
    "\n",
    "array = np.random.randint(0,10,5)\n",
    "\n",
    "print(array)"
   ]
  },
  {
   "cell_type": "markdown",
   "id": "d2d8e1d7",
   "metadata": {},
   "source": [
    "# Task 11\n",
    "\n",
    "Write a NumPy program to create a 10x10 matrix, in which the elements on the borders will be equal\n",
    "to 1, and inside 0"
   ]
  },
  {
   "cell_type": "code",
   "execution_count": null,
   "id": "975eaa08",
   "metadata": {},
   "outputs": [],
   "source": [
    "import numpy as np\n",
    "\n",
    "array = np.ones((10,10))\n",
    "\n",
    "array[1:-1, 1:-1] = 0\n",
    "\n",
    "print(array)"
   ]
  },
  {
   "cell_type": "markdown",
   "id": "5f8e7059",
   "metadata": {},
   "source": [
    "# Task 12\n",
    "\n",
    "Write a NumPy program to create a 5x5 zero matrix with elements on the main diagonal equal to 1, 2,\n",
    "3, 4, 5"
   ]
  },
  {
   "cell_type": "code",
   "execution_count": null,
   "id": "00385b2a",
   "metadata": {},
   "outputs": [],
   "source": [
    "import numpy as np\n",
    "\n",
    "array = np.diag([1,2,3,4,5])\n",
    "\n",
    "print(array)"
   ]
  },
  {
   "cell_type": "markdown",
   "id": "fbe099b7",
   "metadata": {},
   "source": [
    "# Task 13\n",
    "\n",
    "Write a NumPy program to create a 4x4 matrix in which 0 and 1 are staggered, with zeros on the main\n",
    "diagonal."
   ]
  },
  {
   "cell_type": "code",
   "execution_count": null,
   "id": "e1aed0c7",
   "metadata": {},
   "outputs": [],
   "source": [
    "import numpy as np\n",
    "\n",
    "array = np.zeros((4,4))\n",
    "\n",
    "array[::2, 1::2] = 1\n",
    "\n",
    "array[1::2, ::2] = 1\n",
    "\n",
    "print(array)"
   ]
  },
  {
   "cell_type": "markdown",
   "id": "391fa683",
   "metadata": {},
   "source": [
    "# Task 14\n",
    "\n",
    "Write a NumPy program to save two given arrays into a single file in compressed format (.npz format)\n",
    "and load it"
   ]
  },
  {
   "cell_type": "code",
   "execution_count": null,
   "id": "b9a4e55a",
   "metadata": {},
   "outputs": [],
   "source": [
    "import numpy as np\n",
    "import os\n",
    "\n",
    "x = np.random.randint(100,500,10)\n",
    "\n",
    "y = np.random.randint(100,500,10)\n",
    "\n",
    "np.savez('array.npz', x=x, y=y)\n",
    "\n",
    "with np.load('array.npz') as data:\n",
    "    x2 = data['x']\n",
    "    y2 = data['y']\n",
    "    \n",
    "    print(x2)\n",
    "    print(y2) "
   ]
  },
  {
   "cell_type": "markdown",
   "id": "89c042b9",
   "metadata": {},
   "source": [
    "# Task 15\n",
    "\n",
    "Write a NumPy program to create a one-dimensional array of forty pseudo-randomly generated values.\n",
    "Select"
   ]
  },
  {
   "cell_type": "code",
   "execution_count": null,
   "id": "9d90dfb3",
   "metadata": {},
   "outputs": [],
   "source": [
    "import numpy as np\n",
    "\n",
    "np.random.seed(40)\n",
    "array = np.random.rand(50)\n",
    "\n",
    "print(array)"
   ]
  },
  {
   "cell_type": "markdown",
   "id": "fe61d0ca",
   "metadata": {},
   "source": [
    "# Task 16\n",
    "\n",
    "Write a NumPy program to extract all numbers from a given array which are less and greater than a\n",
    "specified number."
   ]
  },
  {
   "cell_type": "code",
   "execution_count": null,
   "id": "76bcf087",
   "metadata": {},
   "outputs": [],
   "source": [
    "import numpy as np\n",
    "\n",
    "array = np.array([1,2,3,4,5,6])\n",
    "\n",
    "print(array[array > 3])\n",
    "\n",
    "print(array[array < 4])"
   ]
  }
 ],
 "metadata": {
  "kernelspec": {
   "display_name": "Python 3 (ipykernel)",
   "language": "python",
   "name": "python3"
  },
  "language_info": {
   "codemirror_mode": {
    "name": "ipython",
    "version": 3
   },
   "file_extension": ".py",
   "mimetype": "text/x-python",
   "name": "python",
   "nbconvert_exporter": "python",
   "pygments_lexer": "ipython3",
   "version": "3.12.1"
  }
 },
 "nbformat": 4,
 "nbformat_minor": 5
}
